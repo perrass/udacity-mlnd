{
 "cells": [
  {
   "cell_type": "code",
   "execution_count": 1,
   "metadata": {
    "collapsed": true
   },
   "outputs": [],
   "source": [
    "import numpy as np\n",
    "import tensorflow as tf"
   ]
  },
  {
   "cell_type": "code",
   "execution_count": 2,
   "metadata": {
    "collapsed": true
   },
   "outputs": [],
   "source": [
    "bandits = [0.2, 0, -0.2, -5]\n",
    "num_bandits = len(bandits)\n",
    "def pullBandit(bandit):\n",
    "    result = np.random.randn(1)\n",
    "    if result > bandit:\n",
    "        return 1\n",
    "    else:\n",
    "        return -1"
   ]
  },
  {
   "cell_type": "code",
   "execution_count": 3,
   "metadata": {
    "collapsed": true
   },
   "outputs": [],
   "source": [
    "tf.reset_default_graph()\n",
    "\n",
    "weights = tf.Variable(tf.ones([num_bandits]))\n",
    "chosen_action = tf.argmax(weights, 0)\n",
    "\n",
    "reward_holder = tf.placeholder(shape=[1], dtype=tf.float32)\n",
    "action_holder = tf.placeholder(shape=[1], dtype=tf.int32)\n",
    "responsible_weight = tf.slice(weights, action_holder, [1])\n",
    "loss = -(tf.log(responsible_weight) * reward_holder)\n",
    "optimizer = tf.train.GradientDescentOptimizer(learning_rate=0.001)\n",
    "update = optimizer.minimize(loss)"
   ]
  },
  {
   "cell_type": "code",
   "execution_count": 7,
   "metadata": {},
   "outputs": [
    {
     "name": "stdout",
     "output_type": "stream",
     "text": [
      "Running reward for the 4 bandits: [-1.  0.  0.  0.]\n",
      "Running reward for the 4 bandits: [ -1.  -3.   0.  41.]\n",
      "Running reward for the 4 bandits: [ -2.  -1.  -1.  85.]\n",
      "Running reward for the 4 bandits: [  -2.    0.   -2.  133.]\n",
      "Running reward for the 4 bandits: [  -3.    0.   -3.  181.]\n",
      "Running reward for the 4 bandits: [  -3.    1.   -3.  226.]\n",
      "Running reward for the 4 bandits: [  -3.   -1.   -3.  272.]\n",
      "Running reward for the 4 bandits: [  -5.   -2.   -3.  319.]\n",
      "Running reward for the 4 bandits: [  -5.   -2.   -5.  367.]\n",
      "Running reward for the 4 bandits: [  -5.    0.   -4.  414.]\n",
      "Running reward for the 4 bandits: [  -6.   -1.   -4.  458.]\n",
      "Running reward for the 4 bandits: [  -8.   -1.   -1.  503.]\n",
      "Running reward for the 4 bandits: [ -10.    0.    1.  548.]\n",
      "Running reward for the 4 bandits: [ -11.   -2.    0.  594.]\n",
      "Running reward for the 4 bandits: [ -13.   -2.    0.  642.]\n",
      "Running reward for the 4 bandits: [ -15.   -2.    2.  688.]\n",
      "Running reward for the 4 bandits: [ -15.    0.    2.  734.]\n",
      "Running reward for the 4 bandits: [ -15.    0.    2.  784.]\n",
      "Running reward for the 4 bandits: [ -15.    0.    2.  830.]\n",
      "Running reward for the 4 bandits: [ -15.    0.    2.  880.]\n",
      "The agent thinks bandit 4 is the most promising....\n",
      "...and it was right!\n"
     ]
    }
   ],
   "source": [
    "total_episodes = 1000\n",
    "total_reward = np.zeros(num_bandits)\n",
    "e = 0.1\n",
    "\n",
    "init = tf.global_variables_initializer()\n",
    "\n",
    "with tf.Session() as sess:\n",
    "    sess.run(init)\n",
    "    i = 0\n",
    "    while i < total_episodes:\n",
    "        # add randomness\n",
    "        if np.random.rand(1) < e:\n",
    "            action = np.random.randint(num_bandits)\n",
    "        else:\n",
    "            action = sess.run(chosen_action)\n",
    "            \n",
    "        reward = pullBandit(bandits[action])\n",
    "        \n",
    "        _, resp, ww = sess.run([update, responsible_weight, weights], \n",
    "                               feed_dict={reward_holder: [reward], action_holder: [action]})\n",
    "        \n",
    "        total_reward[action] += reward\n",
    "        \n",
    "        if i % 50 == 0:\n",
    "            print(\"Running reward for the \" + str(num_bandits) + \" bandits: \" + str(total_reward))\n",
    "            print(resp)\n",
    "        i+=1\n",
    "        \n",
    "print(\"The agent thinks bandit \" + str(np.argmax(ww)+1) + \" is the most promising....\")\n",
    "if np.argmax(ww) == np.argmax(-np.array(bandits)):\n",
    "    print(\"...and it was right!\")\n",
    "else:\n",
    "    print(\"...and it was wrong!\")"
   ]
  },
  {
   "cell_type": "code",
   "execution_count": null,
   "metadata": {
    "collapsed": true
   },
   "outputs": [],
   "source": []
  }
 ],
 "metadata": {
  "kernelspec": {
   "display_name": "Python 3",
   "language": "python",
   "name": "python3"
  },
  "language_info": {
   "codemirror_mode": {
    "name": "ipython",
    "version": 3
   },
   "file_extension": ".py",
   "mimetype": "text/x-python",
   "name": "python",
   "nbconvert_exporter": "python",
   "pygments_lexer": "ipython3",
   "version": "3.5.3"
  }
 },
 "nbformat": 4,
 "nbformat_minor": 2
}
